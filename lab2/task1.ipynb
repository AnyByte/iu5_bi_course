{
  "nbformat": 4,
  "nbformat_minor": 0,
  "metadata": {
    "kernelspec": {
      "name": "python3",
      "display_name": "Python 3"
    },
    "colab": {
      "name": "SimplePolicy.ipynb",
      "provenance": [],
      "collapsed_sections": [],
      "include_colab_link": true
    }
  },
  "cells": [
    {
      "cell_type": "markdown",
      "metadata": {
        "id": "view-in-github",
        "colab_type": "text"
      },
      "source": [
        "<a href=\"https://colab.research.google.com/github/AnyByte/iu5_bi_course/blob/master/lab2/task1.ipynb\" target=\"_parent\"><img src=\"https://colab.research.google.com/assets/colab-badge.svg\" alt=\"Open In Colab\"/></a>"
      ]
    },
    {
      "cell_type": "markdown",
      "metadata": {
        "id": "-4lzYaVykS9p",
        "colab_type": "text"
      },
      "source": [
        "# Лабораторная работа №2 по дисциплине «Инструменты бизнес-аналитики» "
      ]
    },
    {
      "cell_type": "markdown",
      "metadata": {
        "id": "juCC4yoHok4c",
        "colab_type": "text"
      },
      "source": [
        "## 1 задача.\n",
        "Есть N бандитов, для каждого есть число `-100<x<100`, которое подаётся на вход функции `pullBandit`\n",
        "```\n",
        "def pullBandit(bandit): #Сгенерировать случайное число\n",
        "   result = np.random.randn(1) \n",
        "   if result > bandit: #Выигрыш \n",
        "        return 1 \n",
        "   else: #Проигрыш \n",
        "        return -1\n",
        "```\n",
        "Значение результата используется в качестве награды.\n",
        "Политика RL: `policy gradient` (лучше если это будет vanilla, без модификаций)\n",
        "\n",
        "Задача найти номер лучшего бандита"
      ]
    },
    {
      "cell_type": "code",
      "metadata": {
        "id": "7PPnS8YAkS9s",
        "colab_type": "code",
        "colab": {}
      },
      "source": [
        "import tensorflow.compat.v1 as tf\n",
        "import numpy as np"
      ],
      "execution_count": 0,
      "outputs": []
    },
    {
      "cell_type": "code",
      "metadata": {
        "id": "O7ZT9W28kukW",
        "colab_type": "code",
        "colab": {}
      },
      "source": [
        "tf.disable_v2_behavior() "
      ],
      "execution_count": 0,
      "outputs": []
    },
    {
      "cell_type": "markdown",
      "metadata": {
        "id": "Mv3g2YKCkS96",
        "colab_type": "text"
      },
      "source": [
        "### Bandits"
      ]
    },
    {
      "cell_type": "code",
      "metadata": {
        "id": "HkTeuT-KkS97",
        "colab_type": "code",
        "colab": {}
      },
      "source": [
        "#Bandit list\n",
        "bandits = [0.2,0,-0.2,-5]\n",
        "num_bandits = len(bandits)\n",
        "def pullBandit(bandit):\n",
        "    #Get random number.\n",
        "    result = np.random.randn(1)\n",
        "    if result > bandit:\n",
        "        #return a positive reward.\n",
        "        return 1\n",
        "    else:\n",
        "        #return a negative reward.\n",
        "        return -1"
      ],
      "execution_count": 0,
      "outputs": []
    },
    {
      "cell_type": "markdown",
      "metadata": {
        "id": "7W206ACVkS-B",
        "colab_type": "text"
      },
      "source": [
        "### Agent"
      ]
    },
    {
      "cell_type": "code",
      "metadata": {
        "id": "4MweCo8nkS-D",
        "colab_type": "code",
        "colab": {}
      },
      "source": [
        "tf.reset_default_graph()\n",
        "\n",
        "weights = tf.Variable(tf.ones([num_bandits]))\n",
        "chosen_action = tf.argmax(weights,0)\n",
        "\n",
        "reward_holder = tf.placeholder(shape=[1],dtype=tf.float32)\n",
        "action_holder = tf.placeholder(shape=[1],dtype=tf.int32)\n",
        "responsible_weight = tf.slice(weights,action_holder,[1])\n",
        "loss = -(tf.log(responsible_weight)*reward_holder)\n",
        "optimizer = tf.train.GradientDescentOptimizer(learning_rate=0.001)\n",
        "update = optimizer.minimize(loss)"
      ],
      "execution_count": 0,
      "outputs": []
    },
    {
      "cell_type": "markdown",
      "metadata": {
        "id": "MrC0ja3akS-J",
        "colab_type": "text"
      },
      "source": [
        "### Agent training"
      ]
    },
    {
      "cell_type": "code",
      "metadata": {
        "id": "2bui1mAOkS-L",
        "colab_type": "code",
        "colab": {
          "base_uri": "https://localhost:8080/",
          "height": 421
        },
        "outputId": "18d7e09d-4e00-4ad2-f47a-cee0e47f95f7"
      },
      "source": [
        "total_episodes = 1000 #Episodes.\n",
        "total_reward = np.zeros(num_bandits) #Fill scoreboard with 0.\n",
        "e = 0.1 #Random action chance.\n",
        "\n",
        "init = tf.initialize_all_variables()\n",
        "\n",
        "with tf.Session() as sess:\n",
        "    sess.run(init)\n",
        "    i = 0\n",
        "    while i < total_episodes:\n",
        "        \n",
        "        if np.random.rand(1) < e:\n",
        "            action = np.random.randint(num_bandits)\n",
        "        else:\n",
        "            action = sess.run(chosen_action)\n",
        "        \n",
        "        reward = pullBandit(bandits[action])\n",
        "        \n",
        "        _,resp,ww = sess.run([update,responsible_weight,weights], feed_dict={reward_holder:[reward],action_holder:[action]})\n",
        "        \n",
        "        total_reward[action] += reward\n",
        "        if i % 50 == 0:\n",
        "            print(f\"Считаем награды для {num_bandits} бандитов: {total_reward}\")\n",
        "        i+=1\n",
        "print(f\"Агент считает, что бандит под номером {np.argmax(ww)+1} самый выгодный.\")\n",
        "if np.argmax(ww) == np.argmax(-np.array(bandits)):\n",
        "    print(\"Агент оказался прав.\")\n",
        "else:\n",
        "    print(\"Агент оказался неправ.\")"
      ],
      "execution_count": 15,
      "outputs": [
        {
          "output_type": "stream",
          "text": [
            "Считаем награды для 4 бандитов: [1. 0. 0. 0.]\n",
            "Считаем награды для 4 бандитов: [ 0. -1. -3. 41.]\n",
            "Считаем награды для 4 бандитов: [ 0. -1. -2. 86.]\n",
            "Считаем награды для 4 бандитов: [ -1.  -2.  -1. 133.]\n",
            "Считаем награды для 4 бандитов: [ -2.  -3.  -1. 181.]\n",
            "Считаем награды для 4 бандитов: [ -4.  -3.   0. 228.]\n",
            "Считаем награды для 4 бандитов: [ -4.   0.   0. 269.]\n",
            "Считаем награды для 4 бандитов: [ -3.  -2.   1. 315.]\n",
            "Считаем награды для 4 бандитов: [ -4.  -3.   1. 361.]\n",
            "Считаем награды для 4 бандитов: [ -4.  -4.   3. 406.]\n",
            "Считаем награды для 4 бандитов: [ -5.  -3.   3. 454.]\n",
            "Считаем награды для 4 бандитов: [ -6.  -3.   1. 499.]\n",
            "Считаем награды для 4 бандитов: [ -8.  -2.   2. 545.]\n",
            "Считаем награды для 4 бандитов: [-10.  -2.   2. 593.]\n",
            "Считаем награды для 4 бандитов: [-10.  -1.   3. 639.]\n",
            "Считаем награды для 4 бандитов: [-11.  -2.   2. 684.]\n",
            "Считаем награды для 4 бандитов: [-12.  -2.   2. 731.]\n",
            "Считаем награды для 4 бандитов: [-13.   0.   2. 778.]\n",
            "Считаем награды для 4 бандитов: [-14.   0.   1. 824.]\n",
            "Считаем награды для 4 бандитов: [-15.  -3.   0. 867.]\n",
            "Агент считает, что бандит под номером 4 самый выгодный.\n",
            "Агент оказался прав.\n"
          ],
          "name": "stdout"
        }
      ]
    }
  ]
}