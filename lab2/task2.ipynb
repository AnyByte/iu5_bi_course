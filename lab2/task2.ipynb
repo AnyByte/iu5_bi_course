{
  "nbformat": 4,
  "nbformat_minor": 0,
  "metadata": {
    "colab": {
      "name": "Cart-Pole.ipynb",
      "provenance": [],
      "collapsed_sections": [],
      "authorship_tag": "ABX9TyM8pk1sPj8PicJAmlBjkY55",
      "include_colab_link": true
    },
    "kernelspec": {
      "name": "python3",
      "display_name": "Python 3"
    }
  },
  "cells": [
    {
      "cell_type": "markdown",
      "metadata": {
        "id": "view-in-github",
        "colab_type": "text"
      },
      "source": [
        "<a href=\"https://colab.research.google.com/github/AnyByte/iu5_bi_course/blob/master/lab2/task2.ipynb\" target=\"_parent\"><img src=\"https://colab.research.google.com/assets/colab-badge.svg\" alt=\"Open In Colab\"/></a>"
      ]
    },
    {
      "cell_type": "markdown",
      "metadata": {
        "id": "nBB0iO4s-AXd",
        "colab_type": "text"
      },
      "source": [
        "# Лабораторная работа №2 по дисциплине «Инструменты бизнес-аналитики» "
      ]
    },
    {
      "cell_type": "markdown",
      "metadata": {
        "id": "LTCnyfg1-gJ4",
        "colab_type": "text"
      },
      "source": [
        "## 2 задача.\n",
        "### Условие\n",
        "Шест прикреплен неработающим шарниром к тележке, которая движется по бесфрикционному пути. Маятник начинает двигаться вертикально, и цель состоит в том, чтобы предотвратить его падение, увеличивая и уменьшая скорость тележки.\n",
        "### Вознаграждения\n",
        "Вознаграждение составляет 1 за каждый сделанный шаг, включая шаг прекращения действия договора. Пороговое значение составляет 475 для v1.\n",
        "### Решение\n",
        "Считается решенным, когда среднее вознаграждение больше или равно 195,0 в течение 100 последовательных испытаний."
      ]
    },
    {
      "cell_type": "code",
      "metadata": {
        "id": "mDGE7F1ZzMcW",
        "colab_type": "code",
        "colab": {}
      },
      "source": [
        "# !pip install --user git+https://github.com/google-research/tf-slim"
      ],
      "execution_count": 0,
      "outputs": []
    },
    {
      "cell_type": "code",
      "metadata": {
        "id": "38mYzCIXsJ3-",
        "colab_type": "code",
        "colab": {}
      },
      "source": [
        "import tensorflow.compat.v1 as tf\n",
        "import tf_slim as slim\n",
        "import numpy as np\n",
        "import gym\n",
        "import matplotlib.pyplot as plt\n",
        "%matplotlib inline\n",
        "\n",
        "tf.disable_v2_behavior()\n",
        "\n",
        "try:\n",
        "    xrange = xrange\n",
        "except:\n",
        "    xrange = range\n",
        "\n",
        "env = gym.make('CartPole-v0') #загружаем среду задачи"
      ],
      "execution_count": 0,
      "outputs": []
    },
    {
      "cell_type": "code",
      "metadata": {
        "id": "2amOUKRhsOeY",
        "colab_type": "code",
        "colab": {}
      },
      "source": [
        "gamma = 0.99 # коэффициент дисконтирования\n",
        " \n",
        "def discount_rewards(r):\n",
        "    \"\"\" принимая на вход вектор выигришей, \n",
        "    вернуть вектор дисконтированных выигрышей\"\"\"\n",
        "    discounted_r = np.zeros_like(r)\n",
        "    running_add = 0\n",
        "    for t in reversed(xrange(0, r.size)):\n",
        "        running_add = running_add * gamma + r[t]\n",
        "        discounted_r[t] = running_add\n",
        "    return discounted_r"
      ],
      "execution_count": 0,
      "outputs": []
    },
    {
      "cell_type": "code",
      "metadata": {
        "id": "XieI-nx1sQKl",
        "colab_type": "code",
        "colab": {}
      },
      "source": [
        "class agent():\n",
        "    def __init__(self, lr, s_size,a_size,h_size):\n",
        "        #Ниже инициализирована feed-forward часть нейросети. \n",
        "        #Агент оценивает состояние среды и совершает действие\n",
        "        self.state_in= tf.placeholder(shape=[None,s_size],dtype=tf.float32)\n",
        "        hidden = slim.fully_connected(self.state_in,h_size,\n",
        "                      biases_initializer=None,activation_fn=tf.nn.relu)\n",
        "        self.output = slim.fully_connected(hidden,a_size,\n",
        "                      activation_fn=tf.nn.softmax,biases_initializer=None)\n",
        "        self.chosen_action = tf.argmax(self.output,1) # выбор действия\n",
        "\n",
        "        #Следующие 6 строк устанавливают процедуру обучения. \n",
        "        #Нейросеть принимает на вход выбранное действие\n",
        "        # и соответствующий выигрыш,\n",
        "        #чтобы оценить функцию потерь и обновить веса модели.\n",
        "        self.reward_holder = tf.placeholder(shape=[None],dtype=tf.float32)\n",
        "        self.action_holder = tf.placeholder(shape=[None],dtype=tf.int32)\n",
        "        \n",
        "        self.indexes = tf.range(0, \n",
        "        tf.shape(self.output)[0])*tf.shape(self.output)[1] + self.action_holder\n",
        "\n",
        "        self.responsible_outputs = tf.gather(tf.reshape(self.output, [-1]), \n",
        "        self.indexes)\n",
        "        #функция потерь\n",
        "        self.loss = -tf.reduce_mean(tf.log(self.responsible_outputs)*\n",
        "        self.reward_holder) \n",
        "        \n",
        "        tvars = tf.trainable_variables()\n",
        "        self.gradient_holders = []\n",
        "        for idx,var in enumerate(tvars):\n",
        "            placeholder = tf.placeholder(tf.float32,name=str(idx)+'_holder')\n",
        "            self.gradient_holders.append(placeholder)\n",
        "        \n",
        "        self.gradients = tf.gradients(self.loss,tvars)\n",
        "        \n",
        "        optimizer = tf.train.AdamOptimizer(learning_rate=lr) \n",
        "        self.update_batch = optimizer.apply_gradients(zip(self.gradient_holders,\n",
        "        tvars))"
      ],
      "execution_count": 0,
      "outputs": []
    },
    {
      "cell_type": "code",
      "metadata": {
        "id": "ZMFkEuglsRs1",
        "colab_type": "code",
        "colab": {
          "base_uri": "https://localhost:8080/",
          "height": 862
        },
        "outputId": "8e130052-3e74-4cc9-fe08-524b13e6186c"
      },
      "source": [
        "tf.reset_default_graph() #Очищаем граф tensorflow\n",
        "\n",
        "myAgent = agent(lr=1e-2,s_size=4,a_size=2,h_size=8) #Инициализируем агента\n",
        "\n",
        "total_episodes = 5000 #Количество итераций обучения\n",
        "max_ep = 999\n",
        "update_frequency = 5\n",
        "\n",
        "init = tf.global_variables_initializer()\n",
        "\n",
        "#Запуск графа tensorflow\n",
        "with tf.Session() as sess:\n",
        "    sess.run(init)\n",
        "    i = 0\n",
        "    total_reward = []\n",
        "    total_lenght = []\n",
        "    graph_points = []\n",
        "        \n",
        "    gradBuffer = sess.run(tf.trainable_variables())\n",
        "    for ix,grad in enumerate(gradBuffer):\n",
        "        gradBuffer[ix] = grad * 0\n",
        "        \n",
        "    while i < total_episodes:\n",
        "        s = env.reset()\n",
        "        running_reward = 0\n",
        "        ep_history = []\n",
        "        for j in range(max_ep):\n",
        "            #Выбрать действие на основе вероятностей, оцененных нейросетью\n",
        "            a_dist = sess.run(myAgent.output,feed_dict={myAgent.state_in:[s]})\n",
        "            a = np.random.choice(a_dist[0],p=a_dist[0])\n",
        "            a = np.argmax(a_dist == a)\n",
        "\n",
        "            s1,r,d,_ = env.step(a) #Получить награду за совершенное действие\n",
        "            ep_history.append([s,a,r,s1])\n",
        "            s = s1\n",
        "            running_reward += r\n",
        "            if d == True:\n",
        "                #Обновить нейросеть\n",
        "                ep_history = np.array(ep_history)\n",
        "                ep_history[:,2] = discount_rewards(ep_history[:,2])\n",
        "                feed_dict = {myAgent.reward_holder:ep_history[:,2],\n",
        "                             myAgent.action_holder:ep_history[:,1],\n",
        "                             myAgent.state_in:np.vstack(ep_history[:,0])}\n",
        "                grads = sess.run(myAgent.gradients, feed_dict=feed_dict)\n",
        "                for idx,grad in enumerate(grads):\n",
        "                    gradBuffer[idx] += grad\n",
        "\n",
        "                if i % update_frequency == 0 and i != 0:\n",
        "                    feed_dict = dictionary = dict(zip(myAgent.gradient_holders, \n",
        "                                     gradBuffer))\n",
        "                    _ = sess.run(myAgent.update_batch, feed_dict=feed_dict)\n",
        "                    for ix,grad in enumerate(gradBuffer):\n",
        "                        gradBuffer[ix] = grad * 0\n",
        "                \n",
        "                total_reward.append(running_reward)\n",
        "                total_lenght.append(j)\n",
        "                break\n",
        "\n",
        "        \n",
        "            #Обновить общий выигрыш\n",
        "        if i % 100 == 0:\n",
        "            graph_points.append(np.mean(total_reward[-100:]))\n",
        "            if np.mean(total_reward[-100:]) >= 195.0:\n",
        "\n",
        "                x = range(len(graph_points))\n",
        "                y = graph_points\n",
        "\n",
        "                fig = plt.figure()\n",
        "                ax = fig.add_subplot(1, 1, 1)\n",
        "                ax.plot(x, y)\n",
        "\n",
        "                from_idx = len(total_reward) - 101\n",
        "                to_idx = len(total_reward) - 1\n",
        "\n",
        "                x = range(from_idx, to_idx)\n",
        "                y = total_reward[from_idx:to_idx]\n",
        "                fig = plt.figure()\n",
        "                ax = fig.add_subplot(1, 1, 1)\n",
        "                ax.plot(x, y)\n",
        "\n",
        "                print(f\"Целевое значение достигнуто (Reward: {np.mean(total_reward[-100:])}).\")\n",
        "                break\n",
        "            else:\n",
        "                print(f\"Episode: {i} Reward: {np.mean(total_reward[-100:])}\")\n",
        "        i += 1"
      ],
      "execution_count": 125,
      "outputs": [
        {
          "output_type": "stream",
          "text": [
            "Episode: 0 Reward: 22.0\n",
            "Episode: 100 Reward: 32.31\n",
            "Episode: 200 Reward: 35.87\n",
            "Episode: 300 Reward: 40.25\n",
            "Episode: 400 Reward: 51.26\n",
            "Episode: 500 Reward: 52.71\n",
            "Episode: 600 Reward: 62.43\n",
            "Episode: 700 Reward: 61.56\n",
            "Episode: 800 Reward: 74.75\n",
            "Episode: 900 Reward: 127.17\n",
            "Episode: 1000 Reward: 164.11\n",
            "Episode: 1100 Reward: 165.52\n",
            "Episode: 1200 Reward: 175.12\n",
            "Episode: 1300 Reward: 169.81\n",
            "Episode: 1400 Reward: 185.23\n",
            "Episode: 1500 Reward: 188.6\n",
            "Episode: 1600 Reward: 161.46\n",
            "Episode: 1700 Reward: 193.07\n",
            "Целевое значение достигнуто (Reward: 198.48).\n"
          ],
          "name": "stdout"
        },
        {
          "output_type": "display_data",
          "data": {
            "image/png": "[encoded data removed]",
            "text/plain": [
              "<Figure size 432x288 with 1 Axes>"
            ]
          },
          "metadata": {
            "tags": [],
            "needs_background": "light"
          }
        },
        {
          "output_type": "display_data",
          "data": {
            "image/png": "[encoded data removed]",
            "text/plain": [
              "<Figure size 432x288 with 1 Axes>"
            ]
          },
          "metadata": {
            "tags": [],
            "needs_background": "light"
          }
        }
      ]
    },
    {
      "cell_type": "markdown",
      "metadata": {
        "id": "uaU8Er2nD0L6",
        "colab_type": "text"
      },
      "source": [
        "# Вывод\n",
        "Результаты соответствуют решению задачи, а изменение параметров модели ведёт к ухудшению результатов, поэтому было решено оставить параметры в исходном виде."
      ]
    }
  ]
}