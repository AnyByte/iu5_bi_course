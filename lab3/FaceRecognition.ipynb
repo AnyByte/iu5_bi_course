{
  "nbformat": 4,
  "nbformat_minor": 0,
  "metadata": {
    "colab": {
      "name": "FaceRecognition.ipynb",
      "provenance": [],
      "collapsed_sections": [],
      "authorship_tag": "ABX9TyM3zaz/ix2/OmLSg06woIzF",
      "include_colab_link": true
    },
    "kernelspec": {
      "name": "python3",
      "display_name": "Python 3"
    }
  },
  "cells": [
    {
      "cell_type": "markdown",
      "metadata": {
        "id": "view-in-github",
        "colab_type": "text"
      },
      "source": [
        "<a href=\"https://colab.research.google.com/github/AnyByte/iu5_bi_course/blob/master/lab3/FaceRecognition.ipynb\" target=\"_parent\"><img src=\"https://colab.research.google.com/assets/colab-badge.svg\" alt=\"Open In Colab\"/></a>"
      ]
    },
    {
      "cell_type": "code",
      "metadata": {
        "id": "Vu3ayOoAooKv",
        "colab_type": "code",
        "colab": {}
      },
      "source": [
        "# !pip install --upgrade azure-cognitiveservices-vision-face"
      ],
      "execution_count": 0,
      "outputs": []
    },
    {
      "cell_type": "code",
      "metadata": {
        "id": "nc4giAtToUxI",
        "colab_type": "code",
        "colab": {}
      },
      "source": [
        "import os\n",
        "from io import BytesIO\n",
        "\n",
        "import requests\n",
        "from PIL import Image, ImageDraw\n",
        "from azure.cognitiveservices.vision.face import FaceClient\n",
        "from msrest.authentication import CognitiveServicesCredentials"
      ],
      "execution_count": 0,
      "outputs": []
    },
    {
      "cell_type": "code",
      "metadata": {
        "id": "BvtE5DgAokoN",
        "colab_type": "code",
        "colab": {}
      },
      "source": [
        "KEY = 'e14f6c6cd1124386bd0c34413c9bf802'\n",
        "ENDPOINT = 'https://westcentralus.api.cognitive.microsoft.com'"
      ],
      "execution_count": 0,
      "outputs": []
    },
    {
      "cell_type": "code",
      "metadata": {
        "id": "J4gOeMeJo0P-",
        "colab_type": "code",
        "colab": {}
      },
      "source": [
        "# FaceClient.\n",
        "face_client = FaceClient(ENDPOINT, CognitiveServicesCredentials(KEY))"
      ],
      "execution_count": 0,
      "outputs": []
    },
    {
      "cell_type": "code",
      "metadata": {
        "id": "Ueq25tfpo042",
        "colab_type": "code",
        "colab": {
          "base_uri": "https://localhost:8080/",
          "height": 74
        },
        "outputId": "dafc6dc4-f7ce-4fa5-d985-ed8b5bd414a2"
      },
      "source": [
        "single_face_image_url = 'https://www.biography.com/.image/t_share/MTQ1MzAyNzYzOTgxNTE0NTEz/john-f-kennedy---mini-biography.jpg'\n",
        "single_image_name = os.path.basename(single_face_image_url)\n",
        "detected_faces = face_client.face.detect_with_url(url=single_face_image_url)\n",
        "if not detected_faces:\n",
        "    raise Exception('No face detected from image {}'.format(single_image_name))\n",
        "\n",
        "print('Detected face ID from', single_image_name, ':')\n",
        "for face in detected_faces:\n",
        "    print(face)\n",
        "\n",
        "first_image_face_ID = detected_faces[0].face_id"
      ],
      "execution_count": 18,
      "outputs": [
        {
          "output_type": "stream",
          "text": [
            "Detected face ID from john-f-kennedy---mini-biography.jpg :\n",
            "{'additional_properties': {}, 'face_id': '455a5ba9-8103-4d88-9148-72cb530535a6', 'recognition_model': None, 'face_rectangle': <azure.cognitiveservices.vision.face.models._models_py3.FaceRectangle object at 0x7f5325999d30>, 'face_landmarks': None, 'face_attributes': None}\n"
          ],
          "name": "stdout"
        }
      ]
    },
    {
      "cell_type": "code",
      "metadata": {
        "id": "EiiRhvOuo5ED",
        "colab_type": "code",
        "colab": {
          "base_uri": "https://localhost:8080/",
          "height": 35
        },
        "outputId": "6840ab45-83d8-4c60-9cf9-dd95390b5c7a"
      },
      "source": [
        "# Detect a face in an image that contains a single face\n",
        "single_face_image_url = 'https://www.biography.com/.image/t_share/MTQ1MzAyNzYzOTgxNTE0NTEz/john-f-kennedy---mini-biography.jpg'\n",
        "single_image_name = os.path.basename(single_face_image_url)\n",
        "detected_faces = face_client.face.detect_with_url(url=single_face_image_url)\n",
        "if not detected_faces:\n",
        "    raise Exception('No face detected from image {}'.format(single_image_name))\n",
        "\n",
        "# Convert width height to a point in a rectangle\n",
        "def getRectangle(faceDictionary):\n",
        "    rect = faceDictionary.face_rectangle\n",
        "    left = rect.left\n",
        "    top = rect.top\n",
        "    right = left + rect.width\n",
        "    bottom = top + rect.height\n",
        "    \n",
        "    return ((left, top), (right, bottom))\n",
        "\n",
        "\n",
        "# Download the image from the url\n",
        "response = requests.get(single_face_image_url)\n",
        "img = Image.open(BytesIO(response.content))\n",
        "\n",
        "# For each face returned use the face rectangle and draw a red box.\n",
        "print('Drawing rectangle around face... see popup for results.')\n",
        "draw = ImageDraw.Draw(img)\n",
        "for face in detected_faces:\n",
        "    draw.rectangle(getRectangle(face), outline='red')\n",
        "\n",
        "# Save the image in the users default image browser.\n",
        "img.save('results/img.jpg')"
      ],
      "execution_count": 19,
      "outputs": [
        {
          "output_type": "stream",
          "text": [
            "Drawing rectangle around face... see popup for results.\n"
          ],
          "name": "stdout"
        }
      ]
    }
  ]
}